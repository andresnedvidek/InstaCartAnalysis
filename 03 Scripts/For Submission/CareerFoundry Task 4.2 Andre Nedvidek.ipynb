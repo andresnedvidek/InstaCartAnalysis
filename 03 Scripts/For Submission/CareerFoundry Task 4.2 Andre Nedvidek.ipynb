{
 "cells": [
  {
   "cell_type": "code",
   "execution_count": null,
   "id": "1d883ac7-5265-4a66-94e2-168ff5023ad5",
   "metadata": {},
   "outputs": [],
   "source": [
    "# Import libraries\n",
    "import pandas as pd\n",
    "import numpy as np\n",
    "import os"
   ]
  },
  {
   "cell_type": "code",
   "execution_count": null,
   "id": "12bafb40-8f25-49d2-964d-78e2f9b0c48d",
   "metadata": {},
   "outputs": [],
   "source": [
    "#Integres\n",
    "x=2"
   ]
  },
  {
   "cell_type": "code",
   "execution_count": null,
   "id": "05c3c159-3e4e-4204-a163-79af370d3d00",
   "metadata": {},
   "outputs": [],
   "source": [
    "x"
   ]
  },
  {
   "cell_type": "code",
   "execution_count": null,
   "id": "03d7ce53-b23d-4049-9816-e8fa82cb8859",
   "metadata": {},
   "outputs": [],
   "source": [
    "print(x)"
   ]
  },
  {
   "cell_type": "code",
   "execution_count": null,
   "id": "e62383f8-bfb2-478b-9dab-3f7639651993",
   "metadata": {},
   "outputs": [],
   "source": [
    "# Find out Data Type\n",
    "type(x)"
   ]
  },
  {
   "cell_type": "code",
   "execution_count": null,
   "id": "589b38b0-162c-470e-b3e1-7e538f4b4ded",
   "metadata": {},
   "outputs": [],
   "source": [
    "#Floting_Point_Number\n",
    "y=5.678"
   ]
  },
  {
   "cell_type": "code",
   "execution_count": null,
   "id": "0a9d2444-dff6-496a-ac2e-b0a8c838166d",
   "metadata": {},
   "outputs": [],
   "source": [
    "print(y)"
   ]
  },
  {
   "cell_type": "code",
   "execution_count": null,
   "id": "b0f8f7d3-5bed-409f-bb81-c4d406e6aef4",
   "metadata": {},
   "outputs": [],
   "source": [
    "type(y)"
   ]
  },
  {
   "cell_type": "code",
   "execution_count": null,
   "id": "3d81bd7a-fdf3-41b8-b5de-a5029c285d62",
   "metadata": {},
   "outputs": [],
   "source": [
    "#String\n",
    "z='Brazil'"
   ]
  },
  {
   "cell_type": "code",
   "execution_count": null,
   "id": "97f434b1-dc33-449e-89b2-ff71877d27ce",
   "metadata": {},
   "outputs": [],
   "source": [
    "type('Brazil')"
   ]
  },
  {
   "cell_type": "code",
   "execution_count": null,
   "id": "672216f9-0cff-4afe-b7ac-702ea7f1af7d",
   "metadata": {},
   "outputs": [],
   "source": [
    "type('Mania')"
   ]
  },
  {
   "cell_type": "code",
   "execution_count": null,
   "id": "cbec7dd4-b736-4fbe-9381-7e7af6a3cdf1",
   "metadata": {},
   "outputs": [],
   "source": [
    "type(True)"
   ]
  },
  {
   "cell_type": "code",
   "execution_count": null,
   "id": "fd9f2700-a220-4cca-88bc-9ac56d134a90",
   "metadata": {},
   "outputs": [],
   "source": [
    "type(False)"
   ]
  },
  {
   "cell_type": "code",
   "execution_count": null,
   "id": "e2586c41-b32b-4b54-8b8c-0489723a8a8c",
   "metadata": {},
   "outputs": [],
   "source": [
    "x+4"
   ]
  },
  {
   "cell_type": "code",
   "execution_count": null,
   "id": "9d4c78f6-be75-4f59-a914-cb06d5734755",
   "metadata": {},
   "outputs": [],
   "source": [
    "x+y"
   ]
  },
  {
   "cell_type": "code",
   "execution_count": null,
   "id": "edfd46da-f66f-405e-a26b-a745ad740ddc",
   "metadata": {},
   "outputs": [],
   "source": [
    "# Overiding the varuable x\n",
    "x=x+4"
   ]
  },
  {
   "cell_type": "code",
   "execution_count": null,
   "id": "a10e8475-d6c4-4564-b902-e9e8d893f26e",
   "metadata": {},
   "outputs": [],
   "source": [
    "print(x)"
   ]
  },
  {
   "cell_type": "code",
   "execution_count": null,
   "id": "384e4b1a-01c6-44c5-bb21-c89708799a33",
   "metadata": {},
   "outputs": [],
   "source": [
    "# Preforming Operations with strigns\n",
    "a = 'Hallo, '\n",
    "b = 'Marley'\n",
    "a + b"
   ]
  },
  {
   "cell_type": "code",
   "execution_count": null,
   "id": "cfdb0276-f259-4a9b-8064-fef76f8f6f0e",
   "metadata": {},
   "outputs": [],
   "source": [
    "# Trying out Boolean \n",
    "x==y"
   ]
  },
  {
   "cell_type": "code",
   "execution_count": null,
   "id": "0d4bbaf2-387f-4a1d-ab4b-55589278a97e",
   "metadata": {},
   "outputs": [],
   "source": [
    "# testing if it is realy boolean \n",
    "type(x==y)"
   ]
  },
  {
   "cell_type": "code",
   "execution_count": null,
   "id": "3f06c764-0dba-4af0-920e-99322a80c0c0",
   "metadata": {},
   "outputs": [],
   "source": [
    "# 1_of_3 getting to 100 by adding and subtracting\n",
    "50+50"
   ]
  },
  {
   "cell_type": "code",
   "execution_count": null,
   "id": "fc873f84-f2ca-4361-b555-1968f0121361",
   "metadata": {},
   "outputs": [],
   "source": [
    "# 2_of_3 getting to 100 by adding and subtracting\n",
    "10+100-10"
   ]
  },
  {
   "cell_type": "code",
   "execution_count": null,
   "id": "3c5db43f-0b7b-469a-9bcc-31e7d8776a1d",
   "metadata": {},
   "outputs": [],
   "source": [
    "# 3_of_3 getting to 100 by adding and subtracting\n",
    "1000-900"
   ]
  },
  {
   "cell_type": "code",
   "execution_count": null,
   "id": "09a5cc2f-2d0e-4b80-a230-538dd5126a7f",
   "metadata": {},
   "outputs": [],
   "source": [
    "#  Dividing floating points\n",
    "a = 4.553\n",
    "b = 5.556\n",
    "a/b"
   ]
  },
  {
   "cell_type": "code",
   "execution_count": null,
   "id": "5ea3f3ef-0bce-427f-b28d-1eeec44012a6",
   "metadata": {},
   "outputs": [],
   "source": [
    "# conatructing a word with two strings via concatenate \n",
    "c='fire'\n",
    "d='fighter'\n",
    "c+d\n"
   ]
  },
  {
   "cell_type": "code",
   "execution_count": null,
   "id": "6b8461bb-32ff-4561-8ecf-bb9bb0c8c4e7",
   "metadata": {
    "scrolled": true
   },
   "outputs": [],
   "source": [
    "# 2 short sentences made of separate strings\n",
    "e='pythone can be a lot of fun if you practice.'\n",
    "f='Not sure what else to say.'"
   ]
  },
  {
   "cell_type": "code",
   "execution_count": null,
   "id": "5eef07a3-19c1-45ca-b1f0-daeecfe23c1c",
   "metadata": {},
   "outputs": [],
   "source": [
    "e\n"
   ]
  },
  {
   "cell_type": "code",
   "execution_count": null,
   "id": "dd5f30ae-52f9-4f71-ab73-c47ab6f7e72c",
   "metadata": {},
   "outputs": [],
   "source": [
    "f"
   ]
  },
  {
   "cell_type": "code",
   "execution_count": null,
   "id": "2240c896-12ad-4b68-8b4f-9596838f1f75",
   "metadata": {},
   "outputs": [],
   "source": [
    "#command that makes a string appear 100 times\n",
    "g='cool dude'\n",
    "g*100"
   ]
  },
  {
   "cell_type": "code",
   "execution_count": null,
   "id": "e89137ad-b820-4cd8-8cf5-de07517f5a74",
   "metadata": {},
   "outputs": [],
   "source": []
  }
 ],
 "metadata": {
  "kernelspec": {
   "display_name": "Python 3 (ipykernel)",
   "language": "python",
   "name": "python3"
  },
  "language_info": {
   "codemirror_mode": {
    "name": "ipython",
    "version": 3
   },
   "file_extension": ".py",
   "mimetype": "text/x-python",
   "name": "python",
   "nbconvert_exporter": "python",
   "pygments_lexer": "ipython3",
   "version": "3.11.7"
  }
 },
 "nbformat": 4,
 "nbformat_minor": 5
}
